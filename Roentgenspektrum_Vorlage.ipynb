{
 "cells": [
  {
   "cell_type": "markdown",
   "metadata": {},
   "source": [
    "# Röntgenspektrum\n"
   ]
  },
  {
   "cell_type": "markdown",
   "metadata": {},
   "source": [
    "## Einleitung\n",
    "\n",
    "In diesem Dokument sind die Schritte für die Steuerung des Röntgenspektrometers aufgeführt.\n",
    "\n",
    "## Hinweise zum Umgang mit Jupyter-Notebook\n",
    "\n",
    "Das Experiment wird mittels eines Jupyter-Notebooks gesteuert. Für die Nutzung werden in diesem Abschnitt einige Hinweise gegeben. \n",
    "\n",
    "### Allgemein\n",
    "Bei Jupyter-Notebook handelt es sich um eine Schnittstelle zu einem Python-Prozess.\n",
    "\n",
    "Der Code wird dabei nacheinander in Zellen ausgeführt. Alternativ lassen sich in den Zellen Schritte kommentieren und Gleichungen aufschreiben. Dafür wird Markdown (https://markdown.de/), LaTeX-Syntax (für Gleichungen bspw. $E=mc^2$) oder HTML verwendet.\n",
    "\n",
    "Eine neue Zelle kann über den Button <img src=\"QA_neue_Zelle.png\"> erstellt werden.\n",
    "\n",
    "Der in einer Zelle aufgeführte Code wird mit ``SHIFT`` + ``ENTER`` ausgeführt. Die dabei erstellten Variablen bleiben für weitere Rechenschritte erhalten.\n",
    "\n",
    "Einige weitere nützliche Tastenkombinationen sind in der folgenden Tabelle aufgeführt.\n",
    "\n",
    "\n",
    "Funktion | Tastenkombination\n",
    "      :--|:---\n",
    "neue Zelle oberhalb einfügen | ``a`` (im Navigationsmodus)\n",
    "neue Zelle unterhalb einfügen | ``b`` (im Navigationsmodus)\n",
    "Löschen einer Zelle | doppelt ``d`` (im Navigationsmodus)\n",
    "Ausführen einer Zelle | ``SHIFT`` + ``ENTER``\n",
    "\n",
    "Für weitere Informationen zu Jupyter-Notebook sei beispielsweise auf die folgenden Internetseiten verwiesen:\n",
    "* https://realpython.com/jupyter-notebook-introduction/\n",
    "* https://jupyter-notebook.readthedocs.io/en/stable/index.html\n",
    "\n",
    "### Herunterladen von Messdaten\n",
    "Das Kopieren der Daten vom Laborcomputer auf den eigenen Computer kann direkt über den Browser geschehen, falls der Zugriff auf den Laborcomputer über das Netzwerk geschieht:\n",
    "* ``File`` $\\rightarrow$ ``Open...``\n",
    "* zur Datei navigieren\n",
    "* Datei mit Kästchen auswählen\n",
    "* Download"
   ]
  },
  {
   "cell_type": "markdown",
   "metadata": {},
   "source": [
    "## Vorbereitung"
   ]
  },
  {
   "cell_type": "markdown",
   "metadata": {},
   "source": [
    "### Installationen auf dem Laborcomputer\n",
    "\n",
    "Die folgenden Schritte müssen bei der Neueinrichtung des Labrcomputers für das Experiment durchgeführt werden. Bei Verwendung der Anaconda Distribution können die Pakete entsprechend über conda installiert werden.\n",
    "\n",
    "* Jupyter-Notebook installieren\n",
    "    * ``sudo pip3 install --upgrade pip``\n",
    "    * ``sudo pip3 install jupyter``\n",
    "\n",
    "* Sounddevice installieren\n",
    "    * ``pip3 install sounddevice``\n",
    "    * Download PortAudio http://files.portaudio.com/download.html\n",
    "    * ``cd portaudio``\n",
    "    * ``./configure``\n",
    "    * ``sudo make install``\n",
    "    * ``sudo apt-get install libportaudio2``\n",
    "\n",
    "* PySerial installieren\n",
    "    * ``pip3 install pyserialv\n",
    "\n",
    "* Weitere Bibliotheken installieren\n",
    "    * ``pip3 install matplotlib``\n",
    "    * ``pip3 install numpy``\n",
    "    * ``pip3 install scipy``"
   ]
  },
  {
   "cell_type": "markdown",
   "metadata": {},
   "source": [
    "### Schrittmotorsteuerung"
   ]
  },
  {
   "cell_type": "code",
   "execution_count": null,
   "metadata": {},
   "outputs": [],
   "source": [
    "# Kommunikation mit serieller Schnittstelle\n",
    "import time\n",
    "import serial\n",
    "from serial.tools import list_ports\n",
    "\n",
    "# Auslesen und Freimachen des Buffers\n",
    "# Optional kann der Inhalt ausgegeben werden\n",
    "def read_complete_buffer(ser,printing=False):\n",
    "    while(True):\n",
    "        result = ser.readline()\n",
    "        if result == b'':\n",
    "            break\n",
    "        if printing:\n",
    "            print(result)\n",
    "\n",
    "# Schritte mit dem Schrittmotor gehen\n",
    "def go(ser,steps):\n",
    "    ser.write(bytes(str(steps),'utf-8'))\n",
    "    time.sleep(1)\n",
    "    read_complete_buffer(ser,True)\n",
    "    \n",
    "# Position abfragen\n",
    "def position(ser):\n",
    "    read_complete_buffer(ser,False)\n",
    "    ser.write(bytes('pos','utf-8'))\n",
    "    time.sleep(1)\n",
    "    ser.readline()\n",
    "    result = ser.readline()\n",
    "    result = result[9:-2]\n",
    "    print(result)\n",
    "    return float(result)\n",
    "    \n",
    "# Microstepping einstellen\n",
    "#  m1 - Setzt den Motor auf ganze Schritte\n",
    "#  m2 - Halbschritte\n",
    "#  m4 - Viertelschritte\n",
    "#  m8 - Achtelschritte\n",
    "# m16 - Sechzehntelschritte\n",
    "def microstep(ser,string):\n",
    "    ser.write(bytes(string,'utf-8'))\n",
    "    time.sleep(1)\n",
    "    read_complete_buffer(ser,True)"
   ]
  },
  {
   "cell_type": "code",
   "execution_count": null,
   "metadata": {},
   "outputs": [],
   "source": [
    "# Serielle Schnittstellen anzeigen\n",
    "schnittstellen = list_ports.comports() \n",
    "print('Index \\tName')\n",
    "for i in range(len(schnittstellen)):\n",
    "    print(i,'\\t',schnittstellen[i].device)"
   ]
  },
  {
   "cell_type": "code",
   "execution_count": null,
   "metadata": {},
   "outputs": [],
   "source": [
    "# Auswählen der Schnittstelle über den Index\n",
    "index = 0\n",
    "# Herstellen der Verbindung\n",
    "ser = serial.Serial(schnittstellen[index].device, 9600,timeout=1)"
   ]
  },
  {
   "cell_type": "code",
   "execution_count": null,
   "metadata": {},
   "outputs": [],
   "source": [
    "# Größe der Mikroschritte wählen, hier muss ggf. probiert werden, bei welchen Mikroschritten der Motor\n",
    "# im entsprechenden Setup am flüssigsten läuft.\n",
    "microstep(ser,'m1')"
   ]
  },
  {
   "cell_type": "code",
   "execution_count": null,
   "metadata": {},
   "outputs": [],
   "source": [
    "# Motor testweise laufen lassen\n",
    "go(ser,5)"
   ]
  },
  {
   "cell_type": "markdown",
   "metadata": {},
   "source": [
    "### Zähler\n",
    "Das Zähler der Counts des Zählrohrs erfolgt über eine USB-Soundkarte und die Bibliothek Sounddevice (https://python-sounddevice.readthedocs.io/). Der Zähler wird dafür mit dem Mikrophoneingang der USB-Soundkarte verbunden.\n",
    "\n",
    "<img src=\"Aufbau_Zaehler.png\">"
   ]
  },
  {
   "cell_type": "code",
   "execution_count": null,
   "metadata": {},
   "outputs": [],
   "source": [
    "import sounddevice as sd"
   ]
  },
  {
   "cell_type": "markdown",
   "metadata": {},
   "source": [
    "Zu Beginn können die vorhandenen Audio-Schnittstellen angezeigt werden:"
   ]
  },
  {
   "cell_type": "code",
   "execution_count": null,
   "metadata": {},
   "outputs": [],
   "source": [
    "sd.query_devices()"
   ]
  },
  {
   "cell_type": "markdown",
   "metadata": {},
   "source": [
    "Die USB Sounkarte ``USB Audio Device`` oder ähnlich wird nun entsprechend ihrer Nummer ausgewählt. Die Nummer muss in folgender Zelle ggf. angepasst werden."
   ]
  },
  {
   "cell_type": "code",
   "execution_count": null,
   "metadata": {},
   "outputs": [],
   "source": [
    "# Hier wird die Soundkarte ausgewählt. Bitte den Index aus der vorher ausgegebenen Liste wählen.\n",
    "sd.default.device = 2"
   ]
  },
  {
   "cell_type": "code",
   "execution_count": null,
   "metadata": {},
   "outputs": [],
   "source": [
    "# Hier werden Samplerate und Anzahl der Kanäle festgelegt. (hier nichts ändern)\n",
    "sd.default.samplerate = 44100\n",
    "sd.default.channels = 1"
   ]
  },
  {
   "cell_type": "code",
   "execution_count": null,
   "metadata": {},
   "outputs": [],
   "source": [
    "# Funktion zum Zählen von Impulsen in einem Array \n",
    "def count_array(array,threshold, deadSamples):\n",
    "    counter = 0\n",
    "    positions = []\n",
    "    index = 0\n",
    "    while index < len(array):\n",
    "        if array[index]>=threshold:\n",
    "            counter += 1\n",
    "            positions.append(index)\n",
    "            index += deadSamples\n",
    "        else:\n",
    "            index += 1\n",
    "    return counter, positions\n",
    "\n",
    "# kompakte Funktion zum Zählen\n",
    "def count(duration):\n",
    "    fs = 44100\n",
    "    myrecording = sd.rec(int(duration * fs))\n",
    "    sd.wait()\n",
    "    \n",
    "    # die Parameter threshold und deadSamples müssen angepasst werden (count_array(array,threshold, deadSamples))\n",
    "    # dazu eine Aufnahme im Vorfeld machen und plotten: plt.plot(sd.rec(int(duration * fs)))\n",
    "    counter, _ = count_array(myrecording,0.05,10)\n",
    "    return counter"
   ]
  },
  {
   "cell_type": "markdown",
   "metadata": {},
   "source": [
    "## Umsetzung der Messungen durch die Gruppen\n",
    "Für die Speicherung der Daten einen Unterordner mit der Gruppennummer anlegen und dort abspeichern.\n",
    "Bitte in einer Kopie dieser Datei arbeiten und die Kopie ebenfalls im Gruppenordner abspeichern."
   ]
  },
  {
   "cell_type": "code",
   "execution_count": null,
   "metadata": {},
   "outputs": [],
   "source": [
    "# Bespielhafter Scan Ablauf\n",
    "duration = 10 # in s\n",
    "stepsize = 1\n",
    "number_of_steps = 100\n",
    "\n",
    "positions = []\n",
    "counts = []\n",
    "\n",
    "for i in range(number_of_steps):\n",
    "    print(i)\n",
    "    counts.append(count(duration))\n",
    "    go(ser,stepsize)\n",
    "    positions.append(position(ser))\n",
    "    print(i,counts[i],positions[i])"
   ]
  },
  {
   "cell_type": "code",
   "execution_count": null,
   "metadata": {},
   "outputs": [],
   "source": [
    "plt.plot(positions,counts)"
   ]
  }
 ],
 "metadata": {
  "kernelspec": {
   "display_name": "Python 3 (ipykernel)",
   "language": "python",
   "name": "python3"
  },
  "language_info": {
   "codemirror_mode": {
    "name": "ipython",
    "version": 3
   },
   "file_extension": ".py",
   "mimetype": "text/x-python",
   "name": "python",
   "nbconvert_exporter": "python",
   "pygments_lexer": "ipython3",
   "version": "3.7.4"
  },
  "toc": {
   "base_numbering": 1,
   "nav_menu": {},
   "number_sections": true,
   "sideBar": true,
   "skip_h1_title": false,
   "title_cell": "Table of Contents",
   "title_sidebar": "Contents",
   "toc_cell": false,
   "toc_position": {
    "height": "calc(100% - 180px)",
    "left": "10px",
    "top": "150px",
    "width": "384px"
   },
   "toc_section_display": true,
   "toc_window_display": false
  },
  "varInspector": {
   "cols": {
    "lenName": 16,
    "lenType": 16,
    "lenVar": 40
   },
   "kernels_config": {
    "python": {
     "delete_cmd_postfix": "",
     "delete_cmd_prefix": "del ",
     "library": "var_list.py",
     "varRefreshCmd": "print(var_dic_list())"
    },
    "r": {
     "delete_cmd_postfix": ") ",
     "delete_cmd_prefix": "rm(",
     "library": "var_list.r",
     "varRefreshCmd": "cat(var_dic_list()) "
    }
   },
   "position": {
    "height": "509.85px",
    "left": "1423px",
    "right": "20px",
    "top": "120px",
    "width": "350px"
   },
   "types_to_exclude": [
    "module",
    "function",
    "builtin_function_or_method",
    "instance",
    "_Feature"
   ],
   "window_display": false
  }
 },
 "nbformat": 4,
 "nbformat_minor": 4
}
